{
 "cells": [
  {
   "cell_type": "code",
   "execution_count": 1,
   "id": "d69ccb08",
   "metadata": {},
   "outputs": [],
   "source": [
    "# 판다스와 넘파이를 불러와서 파일 업로드\n",
    "import pandas as pd\n",
    "import numpy as np\n",
    "df = pd.read_csv('C:/Users/micke/Desktop/X_mangchi/Naver_movie_crawling/2021-07-27-10-04-49-블랙위도우 평점리뷰.csv')"
   ]
  },
  {
   "cell_type": "code",
   "execution_count": 2,
   "id": "334f099d",
   "metadata": {},
   "outputs": [
    {
     "name": "stdout",
     "output_type": "stream",
     "text": [
      "<class 'pandas.core.frame.DataFrame'>\n",
      "RangeIndex: 5970 entries, 0 to 5969\n",
      "Data columns (total 2 columns):\n",
      " #   Column  Non-Null Count  Dtype \n",
      "---  ------  --------------  ----- \n",
      " 0   영화리뷰    5481 non-null   object\n",
      " 1   영화평점    5970 non-null   int64 \n",
      "dtypes: int64(1), object(1)\n",
      "memory usage: 93.4+ KB\n"
     ]
    },
    {
     "data": {
      "text/html": [
       "<div>\n",
       "<style scoped>\n",
       "    .dataframe tbody tr th:only-of-type {\n",
       "        vertical-align: middle;\n",
       "    }\n",
       "\n",
       "    .dataframe tbody tr th {\n",
       "        vertical-align: top;\n",
       "    }\n",
       "\n",
       "    .dataframe thead th {\n",
       "        text-align: right;\n",
       "    }\n",
       "</style>\n",
       "<table border=\"1\" class=\"dataframe\">\n",
       "  <thead>\n",
       "    <tr style=\"text-align: right;\">\n",
       "      <th></th>\n",
       "      <th>영화리뷰</th>\n",
       "      <th>영화평점</th>\n",
       "    </tr>\n",
       "  </thead>\n",
       "  <tbody>\n",
       "    <tr>\n",
       "      <th>0</th>\n",
       "      <td>막눈이 봐도 블랙 위도우 헌정 영화</td>\n",
       "      <td>10</td>\n",
       "    </tr>\n",
       "    <tr>\n",
       "      <th>1</th>\n",
       "      <td>역시 마블입니다. 영화관에서 이렇게 가슴 웅장해진적 오랜만이네요</td>\n",
       "      <td>10</td>\n",
       "    </tr>\n",
       "    <tr>\n",
       "      <th>2</th>\n",
       "      <td>위도우의 마지막 이야기</td>\n",
       "      <td>8</td>\n",
       "    </tr>\n",
       "    <tr>\n",
       "      <th>3</th>\n",
       "      <td>이제 못보는건가 ㅠㅠ</td>\n",
       "      <td>10</td>\n",
       "    </tr>\n",
       "    <tr>\n",
       "      <th>4</th>\n",
       "      <td>흠잡을게 없는 영화    상영시간이 긴대도  불구하고 지루할 틈이 없는  이게 영화지</td>\n",
       "      <td>10</td>\n",
       "    </tr>\n",
       "  </tbody>\n",
       "</table>\n",
       "</div>"
      ],
      "text/plain": [
       "                                              영화리뷰  영화평점\n",
       "0                              막눈이 봐도 블랙 위도우 헌정 영화    10\n",
       "1              역시 마블입니다. 영화관에서 이렇게 가슴 웅장해진적 오랜만이네요    10\n",
       "2                                     위도우의 마지막 이야기     8\n",
       "3                                      이제 못보는건가 ㅠㅠ    10\n",
       "4  흠잡을게 없는 영화    상영시간이 긴대도  불구하고 지루할 틈이 없는  이게 영화지    10"
      ]
     },
     "execution_count": 2,
     "metadata": {},
     "output_type": "execute_result"
    }
   ],
   "source": [
    "# 데이터 분석\n",
    "df.info()\n",
    "df.head()"
   ]
  },
  {
   "cell_type": "code",
   "execution_count": 3,
   "id": "85f02fd0",
   "metadata": {},
   "outputs": [],
   "source": [
    "# na값 있는 행 삭제\n",
    "# df.isnull()\n",
    "\n",
    "df.dropna(inplace = True)"
   ]
  },
  {
   "cell_type": "code",
   "execution_count": 4,
   "id": "0122234a",
   "metadata": {},
   "outputs": [
    {
     "data": {
      "text/html": [
       "<div>\n",
       "<style scoped>\n",
       "    .dataframe tbody tr th:only-of-type {\n",
       "        vertical-align: middle;\n",
       "    }\n",
       "\n",
       "    .dataframe tbody tr th {\n",
       "        vertical-align: top;\n",
       "    }\n",
       "\n",
       "    .dataframe thead th {\n",
       "        text-align: right;\n",
       "    }\n",
       "</style>\n",
       "<table border=\"1\" class=\"dataframe\">\n",
       "  <thead>\n",
       "    <tr style=\"text-align: right;\">\n",
       "      <th></th>\n",
       "      <th>영화리뷰</th>\n",
       "      <th>영화평점</th>\n",
       "      <th>label</th>\n",
       "    </tr>\n",
       "  </thead>\n",
       "  <tbody>\n",
       "    <tr>\n",
       "      <th>0</th>\n",
       "      <td>막눈이 봐도 블랙 위도우 헌정 영화</td>\n",
       "      <td>10</td>\n",
       "      <td>1.0</td>\n",
       "    </tr>\n",
       "    <tr>\n",
       "      <th>1</th>\n",
       "      <td>역시 마블입니다. 영화관에서 이렇게 가슴 웅장해진적 오랜만이네요</td>\n",
       "      <td>10</td>\n",
       "      <td>1.0</td>\n",
       "    </tr>\n",
       "    <tr>\n",
       "      <th>2</th>\n",
       "      <td>위도우의 마지막 이야기</td>\n",
       "      <td>8</td>\n",
       "      <td>NaN</td>\n",
       "    </tr>\n",
       "    <tr>\n",
       "      <th>3</th>\n",
       "      <td>이제 못보는건가 ㅠㅠ</td>\n",
       "      <td>10</td>\n",
       "      <td>1.0</td>\n",
       "    </tr>\n",
       "    <tr>\n",
       "      <th>4</th>\n",
       "      <td>흠잡을게 없는 영화    상영시간이 긴대도  불구하고 지루할 틈이 없는  이게 영화지</td>\n",
       "      <td>10</td>\n",
       "      <td>1.0</td>\n",
       "    </tr>\n",
       "  </tbody>\n",
       "</table>\n",
       "</div>"
      ],
      "text/plain": [
       "                                              영화리뷰  영화평점  label\n",
       "0                              막눈이 봐도 블랙 위도우 헌정 영화    10    1.0\n",
       "1              역시 마블입니다. 영화관에서 이렇게 가슴 웅장해진적 오랜만이네요    10    1.0\n",
       "2                                     위도우의 마지막 이야기     8    NaN\n",
       "3                                      이제 못보는건가 ㅠㅠ    10    1.0\n",
       "4  흠잡을게 없는 영화    상영시간이 긴대도  불구하고 지루할 틈이 없는  이게 영화지    10    1.0"
      ]
     },
     "execution_count": 4,
     "metadata": {},
     "output_type": "execute_result"
    }
   ],
   "source": [
    "# 평점 9이상은 1로, 4이하는 0으로 라벨링\n",
    "# df['label'] = np.select([df.영화평점 > 8], [1], default=0)\n",
    "# df[:50]\n",
    "def df_to_label(영화평점):\n",
    "    if 영화평점 > 8:\n",
    "        return 1\n",
    "    elif 영화평점 < 5:\n",
    "        return 0\n",
    "df['label'] = df['영화평점'].apply(lambda x: df_to_label(x))\n",
    "df.head()"
   ]
  },
  {
   "cell_type": "code",
   "execution_count": 5,
   "id": "9b9b17f8",
   "metadata": {},
   "outputs": [],
   "source": [
    "# label 컬럼의 na값 삭제\n",
    "df.dropna(inplace=True)"
   ]
  },
  {
   "cell_type": "code",
   "execution_count": 6,
   "id": "7cdf40b7",
   "metadata": {},
   "outputs": [],
   "source": [
    "# label 컬럼의 타입 int로 바꿔주기\n",
    "df['label'] = df['label'].astype(int)"
   ]
  },
  {
   "cell_type": "code",
   "execution_count": 7,
   "id": "71ac20e0",
   "metadata": {},
   "outputs": [],
   "source": [
    "# 영화평점 label 삭제\n",
    "df.drop(['영화평점'], axis = 1, inplace = True)"
   ]
  },
  {
   "cell_type": "code",
   "execution_count": 8,
   "id": "6d65aec0",
   "metadata": {},
   "outputs": [
    {
     "name": "stdout",
     "output_type": "stream",
     "text": [
      "<class 'pandas.core.frame.DataFrame'>\n",
      "Int64Index: 4347 entries, 0 to 5969\n",
      "Data columns (total 2 columns):\n",
      " #   Column  Non-Null Count  Dtype \n",
      "---  ------  --------------  ----- \n",
      " 0   영화리뷰    4347 non-null   object\n",
      " 1   label   4347 non-null   int32 \n",
      "dtypes: int32(1), object(1)\n",
      "memory usage: 84.9+ KB\n"
     ]
    }
   ],
   "source": [
    "df.info()"
   ]
  },
  {
   "cell_type": "code",
   "execution_count": 9,
   "id": "3068e654",
   "metadata": {},
   "outputs": [],
   "source": [
    "# 중복값 삭제\n",
    "df.drop_duplicates(subset=['영화리뷰'], inplace=True)"
   ]
  },
  {
   "cell_type": "code",
   "execution_count": 10,
   "id": "f23a504c",
   "metadata": {},
   "outputs": [],
   "source": [
    "# 데이터 저장\n",
    "df.to_csv('C:/Users/micke/Desktop/X_mangchi/Naver_movie_processing/2021-07-27-20-41-49-블랙위도우 평점리뷰.txt', sep = '\\t')"
   ]
  }
 ],
 "metadata": {
  "kernelspec": {
   "display_name": "Python 3",
   "language": "python",
   "name": "python3"
  },
  "language_info": {
   "codemirror_mode": {
    "name": "ipython",
    "version": 3
   },
   "file_extension": ".py",
   "mimetype": "text/x-python",
   "name": "python",
   "nbconvert_exporter": "python",
   "pygments_lexer": "ipython3",
   "version": "3.8.8"
  }
 },
 "nbformat": 4,
 "nbformat_minor": 5
}
